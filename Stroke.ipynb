{
 "cells": [
  {
   "cell_type": "code",
   "execution_count": 1,
   "id": "bbf8dc33-b564-4103-973f-cb98351287f0",
   "metadata": {},
   "outputs": [],
   "source": [
    "import os\n",
    "import pandas as pd\n",
    "import numpy as np\n",
    "import tensorflow as tf\n",
    "from tensorflow.keras.preprocessing.image import ImageDataGenerator, load_img, img_to_array\n",
    "from tensorflow.keras.models import Sequential\n",
    "from tensorflow.keras.layers import Conv2D, MaxPooling2D, Flatten, Dense, Dropout\n",
    "from sklearn.model_selection import train_test_split\n",
    "from sklearn.metrics import accuracy_score, classification_report, confusion_matrix\n",
    "import matplotlib.pyplot as plt\n",
    "import seaborn as sns"
   ]
  },
  {
   "cell_type": "code",
   "execution_count": 75,
   "id": "cd606bae-592f-4fd1-83ae-2add99e7c8b8",
   "metadata": {},
   "outputs": [],
   "source": [
    "# Define dataset path\n",
    "dataset_path = r\"D:\\Brain_Data_Organised\\Brain_Data_Organised\" # Change this to your dataset path\n",
    "csv_path = r\"D:\\Brain_Data_Organised\\Brain_Data_Organised\\labels.csv\""
   ]
  },
  {
   "cell_type": "code",
   "execution_count": 95,
   "id": "5a00f032-5069-42c4-9079-666cf0d014eb",
   "metadata": {},
   "outputs": [
    {
     "name": "stdout",
     "output_type": "stream",
     "text": [
      "X shape: (1898, 224, 224, 3)\n",
      "X max: 1.0 X min: 0.0\n"
     ]
    }
   ],
   "source": [
    "# Load CSV file\n",
    "df = pd.read_csv(csv_path)\n",
    "\n",
    "# Function to load and preprocess images\n",
    "def load_and_preprocess_image(img_path, img_size=(224, 224)):\n",
    "    img = load_img(os.path.join(dataset_path, img_path), target_size=img_size)\n",
    "    img = img_to_array(img) / 255.0  # Normalize to [0,1]\n",
    "    return img\n",
    "\n",
    "# Load images and labels\n",
    "X = np.array([load_and_preprocess_image(img_path) for img_path in df[\"filename\"]])\n",
    "y = np.array(df[\"label\"])  # Labels: 1 for stroke, 0 for normal\n",
    "import os\n",
    "print(\"X shape:\", X.shape)\n",
    "print(\"X max:\", X.max(), \"X min:\", X.min())\n",
    "\n",
    "\n",
    "\n",
    "\n",
    "\n"
   ]
  },
  {
   "cell_type": "code",
   "execution_count": 83,
   "id": "461cb018",
   "metadata": {},
   "outputs": [],
   "source": [
    "from PIL import Image\n",
    "img = Image.open(os.path.join(dataset_path, df[\"filename\"].iloc[0]))\n",
    "img.show()\n"
   ]
  },
  {
   "cell_type": "code",
   "execution_count": 47,
   "id": "4552714d-7ce2-425e-a8d9-36c7ad76ab9c",
   "metadata": {},
   "outputs": [],
   "source": [
    "from tensorflow.keras.callbacks import EarlyStopping"
   ]
  },
  {
   "cell_type": "code",
   "execution_count": 102,
   "id": "225bf3ed-2a50-4b50-96f3-17c0db79dc9e",
   "metadata": {},
   "outputs": [
    {
     "name": "stdout",
     "output_type": "stream",
     "text": [
      "Epoch 1/5\n",
      "\u001b[1m48/48\u001b[0m \u001b[32m━━━━━━━━━━━━━━━━━━━━\u001b[0m\u001b[37m\u001b[0m \u001b[1m80s\u001b[0m 2s/step - accuracy: 0.6492 - loss: 0.7056 - val_accuracy: 0.5842 - val_loss: 0.6727\n",
      "Epoch 2/5\n",
      "\u001b[1m48/48\u001b[0m \u001b[32m━━━━━━━━━━━━━━━━━━━━\u001b[0m\u001b[37m\u001b[0m \u001b[1m72s\u001b[0m 1s/step - accuracy: 0.8651 - loss: 0.2988 - val_accuracy: 0.6553 - val_loss: 0.6552\n",
      "Epoch 3/5\n",
      "\u001b[1m48/48\u001b[0m \u001b[32m━━━━━━━━━━━━━━━━━━━━\u001b[0m\u001b[37m\u001b[0m \u001b[1m72s\u001b[0m 2s/step - accuracy: 0.9265 - loss: 0.1732 - val_accuracy: 0.7684 - val_loss: 0.6195\n",
      "Epoch 4/5\n",
      "\u001b[1m48/48\u001b[0m \u001b[32m━━━━━━━━━━━━━━━━━━━━\u001b[0m\u001b[37m\u001b[0m \u001b[1m72s\u001b[0m 1s/step - accuracy: 0.9646 - loss: 0.0993 - val_accuracy: 0.7895 - val_loss: 0.5474\n",
      "Epoch 5/5\n",
      "\u001b[1m48/48\u001b[0m \u001b[32m━━━━━━━━━━━━━━━━━━━━\u001b[0m\u001b[37m\u001b[0m \u001b[1m71s\u001b[0m 1s/step - accuracy: 0.9761 - loss: 0.0701 - val_accuracy: 0.8342 - val_loss: 0.4452\n",
      "Restoring model weights from the end of the best epoch: 5.\n"
     ]
    },
    {
     "name": "stderr",
     "output_type": "stream",
     "text": [
      "WARNING:absl:You are saving your model as an HDF5 file via `model.save()` or `keras.saving.save_model(model)`. This file format is considered legacy. We recommend using instead the native Keras format, e.g. `model.save('my_model.keras')` or `keras.saving.save_model(model, 'my_model.keras')`. \n"
     ]
    }
   ],
   "source": [
    "import numpy as np\n",
    "import tensorflow as tf\n",
    "from tensorflow.keras.applications import ResNet50\n",
    "from tensorflow.keras.models import Model\n",
    "from tensorflow.keras.layers import Dense, Dropout, GlobalAveragePooling2D, Input, BatchNormalization\n",
    "from tensorflow.keras.optimizers import Adam\n",
    "from tensorflow.keras.callbacks import EarlyStopping\n",
    "from sklearn.model_selection import train_test_split\n",
    "\n",
    "# Split Data\n",
    "X_train, X_val, y_train, y_val = train_test_split(X, y, test_size=0.2, random_state=42)\n",
    "\n",
    "# Define input layer\n",
    "input_layer = Input(shape=(224, 224, 3))\n",
    "\n",
    "# Load ResNet50 with Pretrained Weights\n",
    "base_model = ResNet50(weights=\"imagenet\", include_top=False, input_tensor=input_layer)\n",
    "for layer in base_model.layers[:-10]:  # Freeze all but last 10 layers\n",
    "    layer.trainable = False\n",
    "\n",
    "# Build Custom Classifier\n",
    "x = GlobalAveragePooling2D()(base_model.output)\n",
    "x = BatchNormalization()(x)  # Normalization for stability\n",
    "x = Dense(256, activation=\"relu\")(x)\n",
    "x = Dropout(0.4)(x)  # Regularization\n",
    "output_layer = Dense(1, activation=\"sigmoid\")(x)  # Binary classification\n",
    "\n",
    "# Create Final Model\n",
    "model = Model(inputs=input_layer, outputs=output_layer)\n",
    "\n",
    "# Compile Model\n",
    "model.compile(optimizer=Adam(learning_rate=0.0001), loss=\"binary_crossentropy\", metrics=[\"accuracy\"])\n",
    "\n",
    "# Define EarlyStopping\n",
    "early_stopping = EarlyStopping(\n",
    "    monitor='val_loss',\n",
    "    patience=3,\n",
    "    restore_best_weights=True,\n",
    "    verbose=1\n",
    ")\n",
    "\n",
    "# Train Model\n",
    "history = model.fit(\n",
    "    X_train, y_train,\n",
    "    epochs=5,  # Increase epochs since we have a stronger model\n",
    "    validation_data=(X_val, y_val),\n",
    "    batch_size=32,\n",
    "    callbacks=[early_stopping]\n",
    ")\n",
    "\n",
    "# Save Model\n",
    "model.save(\"stroke_classifier_resnet50.h5\")\n"
   ]
  },
  {
   "cell_type": "code",
   "execution_count": 103,
   "id": "125d1248",
   "metadata": {},
   "outputs": [
    {
     "name": "stdout",
     "output_type": "stream",
     "text": [
      "WARNING:tensorflow:6 out of the last 21 calls to <function TensorFlowTrainer.make_predict_function.<locals>.one_step_on_data_distributed at 0x0000017E71F66F20> triggered tf.function retracing. Tracing is expensive and the excessive number of tracings could be due to (1) creating @tf.function repeatedly in a loop, (2) passing tensors with different shapes, (3) passing Python objects instead of tensors. For (1), please define your @tf.function outside of the loop. For (2), @tf.function has reduce_retracing=True option that can avoid unnecessary retracing. For (3), please refer to https://www.tensorflow.org/guide/function#controlling_retracing and https://www.tensorflow.org/api_docs/python/tf/function for  more details.\n"
     ]
    },
    {
     "name": "stderr",
     "output_type": "stream",
     "text": [
      "WARNING:tensorflow:6 out of the last 21 calls to <function TensorFlowTrainer.make_predict_function.<locals>.one_step_on_data_distributed at 0x0000017E71F66F20> triggered tf.function retracing. Tracing is expensive and the excessive number of tracings could be due to (1) creating @tf.function repeatedly in a loop, (2) passing tensors with different shapes, (3) passing Python objects instead of tensors. For (1), please define your @tf.function outside of the loop. For (2), @tf.function has reduce_retracing=True option that can avoid unnecessary retracing. For (3), please refer to https://www.tensorflow.org/guide/function#controlling_retracing and https://www.tensorflow.org/api_docs/python/tf/function for  more details.\n"
     ]
    },
    {
     "name": "stdout",
     "output_type": "stream",
     "text": [
      "\u001b[1m1/1\u001b[0m \u001b[32m━━━━━━━━━━━━━━━━━━━━\u001b[0m\u001b[37m\u001b[0m \u001b[1m2s\u001b[0m 2s/step\n",
      "[[0.45144582]\n",
      " [0.39897576]\n",
      " [0.41191614]\n",
      " [0.40115243]\n",
      " [0.38749546]\n",
      " [0.5023941 ]\n",
      " [0.6197006 ]\n",
      " [0.6166351 ]\n",
      " [0.52456   ]\n",
      " [0.49174333]]\n"
     ]
    }
   ],
   "source": [
    "y_pred = model.predict(X[:10])  # Predict on a small batch\n",
    "print(y_pred)  # Check output values\n"
   ]
  },
  {
   "cell_type": "code",
   "execution_count": 15,
   "id": "fd98de4f-b9f3-4055-9025-c60356c21d79",
   "metadata": {},
   "outputs": [
    {
     "name": "stdout",
     "output_type": "stream",
     "text": [
      "\u001b[1m12/12\u001b[0m \u001b[32m━━━━━━━━━━━━━━━━━━━━\u001b[0m\u001b[37m\u001b[0m \u001b[1m1s\u001b[0m 96ms/step\n",
      "Accuracy: 0.9263\n",
      "Classification Report:\n",
      "              precision    recall  f1-score   support\n",
      "\n",
      "           0       0.92      0.93      0.93       196\n",
      "           1       0.93      0.92      0.92       184\n",
      "\n",
      "    accuracy                           0.93       380\n",
      "   macro avg       0.93      0.93      0.93       380\n",
      "weighted avg       0.93      0.93      0.93       380\n",
      "\n"
     ]
    },
    {
     "data": {
      "image/png": "[encoded data removed]",
      "text/plain": [
       "<Figure size 640x480 with 2 Axes>"
      ]
     },
     "metadata": {},
     "output_type": "display_data"
    },
    {
     "name": "stdout",
     "output_type": "stream",
     "text": [
      "Model training complete and saved as 'stroke_classifier.h5'.\n"
     ]
    }
   ],
   "source": [
    "# Predictions\n",
    "y_pred = (model.predict(X_val) > 0.5).astype(\"int32\")\n",
    "\n",
    "# Accuracy\n",
    "accuracy = accuracy_score(y_val, y_pred)\n",
    "print(f\"Accuracy: {accuracy:.4f}\")\n",
    "\n",
    "# Classification Report\n",
    "print(\"Classification Report:\")\n",
    "print(classification_report(y_val, y_pred))\n",
    "\n",
    "# Confusion Matrix\n",
    "conf_matrix = confusion_matrix(y_val, y_pred)\n",
    "sns.heatmap(conf_matrix, annot=True, fmt='d', cmap='Blues')\n",
    "plt.xlabel('Predicted')\n",
    "plt.ylabel('Actual')\n",
    "plt.title('Confusion Matrix')\n",
    "plt.show()\n",
    "\n",
    "print(\"Model training complete and saved as 'stroke_classifier.h5'.\")\n"
   ]
  },
  {
   "cell_type": "code",
   "execution_count": null,
   "id": "1ebd2b0c-f5a6-4d3f-b29e-359ca89e6466",
   "metadata": {},
   "outputs": [],
   "source": [
    "import tensorflow as tf\n",
    "\n",
    "# Load the trained model\n",
    "model = tf.keras.models.load_model(\"stroke_classifier.h5\")\n",
    "\n",
    "# Print model summary\n",
    "model.summary()\n",
    "\n",
    "print(\"Model loaded successfully.\")\n"
   ]
  },
  {
   "cell_type": "code",
   "execution_count": 49,
   "id": "981d0900-d276-4bd4-bda8-f5ba71f61b95",
   "metadata": {},
   "outputs": [
    {
     "name": "stdout",
     "output_type": "stream",
     "text": [
      "\u001b[1m1/1\u001b[0m \u001b[32m━━━━━━━━━━━━━━━━━━━━\u001b[0m\u001b[37m\u001b[0m \u001b[1m0s\u001b[0m 69ms/step\n"
     ]
    },
    {
     "data": {
      "image/png": "[encoded data removed]",
      "text/plain": [
       "<Figure size 640x480 with 1 Axes>"
      ]
     },
     "metadata": {},
     "output_type": "display_data"
    },
    {
     "name": "stdout",
     "output_type": "stream",
     "text": [
      "Predicted class: 0\n"
     ]
    }
   ],
   "source": [
    "import tensorflow as tf\n",
    "from tensorflow.keras.preprocessing import image\n",
    "import numpy as np\n",
    "import matplotlib.pyplot as plt\n",
    "\n",
    "\n",
    "# Load the image you want to test (replace with your image's path)\n",
    "img_path = r\"D:\\Brain_Data_Organised\\Brain_Data_Organised\\Stroke\\66 (40).jpg\"\n",
    "\n",
    "# Preprocess the image (resize it to match the model input size, typically 224x224 for many CNNs)\n",
    "img = image.load_img(img_path, target_size=(224, 224))  # adjust target_size as per your model input shape\n",
    "\n",
    "# Convert the image to a numpy array\n",
    "img_array = image.img_to_array(img)\n",
    "\n",
    "# Reshape the array to match the model's expected input shape (add batch dimension)\n",
    "img_array = np.expand_dims(img_array, axis=0)\n",
    "\n",
    "# Normalize the image if your model was trained with normalized images (e.g., between 0 and 1)\n",
    "img_array = img_array / 255.0\n",
    "\n",
    "# Make a prediction\n",
    "predictions = model.predict(img_array)\n",
    "\n",
    "# Output the prediction (for classification tasks, you can get the class with np.argmax())\n",
    "predicted_class = np.argmax(predictions)\n",
    "\n",
    "# Display the image\n",
    "plt.imshow(img)\n",
    "plt.show()\n",
    "\n",
    "# Print the predicted class\n",
    "print(f\"Predicted class: {predicted_class}\")\n"
   ]
  },
  {
   "cell_type": "code",
   "execution_count": null,
   "id": "4662d331-364b-46e0-9e66-0a71a707f015",
   "metadata": {},
   "outputs": [],
   "source": []
  }
 ],
 "metadata": {
  "kernelspec": {
   "display_name": "Python 3",
   "language": "python",
   "name": "python3"
  },
  "language_info": {
   "codemirror_mode": {
    "name": "ipython",
    "version": 3
   },
   "file_extension": ".py",
   "mimetype": "text/x-python",
   "name": "python",
   "nbconvert_exporter": "python",
   "pygments_lexer": "ipython3",
   "version": "3.11.4"
  }
 },
 "nbformat": 4,
 "nbformat_minor": 5
}
